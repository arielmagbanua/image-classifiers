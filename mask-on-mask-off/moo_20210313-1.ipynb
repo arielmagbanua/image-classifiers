{
  "nbformat": 4,
  "nbformat_minor": 0,
  "metadata": {
    "colab": {
      "name": "moo.ipynb",
      "provenance": [],
      "toc_visible": true,
      "mount_file_id": "1UHO0Pfk17Bx_yDGx7kqpH0s5qEgZD_i0",
      "authorship_tag": "ABX9TyPJqy0UTOGc7sAo77gfuA40",
      "include_colab_link": true
    },
    "kernelspec": {
      "display_name": "Python 3",
      "name": "python3"
    },
    "accelerator": "GPU"
  },
  "cells": [
    {
      "cell_type": "markdown",
      "metadata": {
        "id": "view-in-github",
        "colab_type": "text"
      },
      "source": [
        "<a href=\"https://colab.research.google.com/github/arielmagbanua/image-classifiers/blob/main/mask-on-mask-off/moo_20210313-1.ipynb\" target=\"_parent\"><img src=\"https://colab.research.google.com/assets/colab-badge.svg\" alt=\"Open In Colab\"/></a>"
      ]
    },
    {
      "cell_type": "code",
      "metadata": {
        "colab": {
          "base_uri": "https://localhost:8080/"
        },
        "id": "h3HBdVOXGWJk",
        "outputId": "78a9e9cf-4781-4b58-a6bc-0ec092077831"
      },
      "source": [
        "import matplotlib.pyplot as plt\r\n",
        "import tensorflow as tf\r\n",
        "from tensorflow.keras.preprocessing.image import ImageDataGenerator\r\n",
        "from tensorflow.keras.optimizers import Adam\r\n",
        "import os\r\n",
        "import zipfile\r\n",
        "import pathlib\r\n",
        "import PIL\r\n",
        "import numpy as np\r\n",
        "from google.colab import files\r\n",
        "from google.colab import drive\r\n",
        "import time\r\n",
        "import random\r\n",
        "\r\n",
        "!pip install tensorflowjs\r\n",
        "\r\n",
        "# mount the google drive\r\n",
        "drive.mount('/content/drive')"
      ],
      "execution_count": 1,
      "outputs": [
        {
          "output_type": "stream",
          "text": [
            "Collecting tensorflowjs\n",
            "\u001b[?25l  Downloading https://files.pythonhosted.org/packages/d4/1f/632d04bec71d4736a4e0e512cf41236b3416ac00d0a532f6511a829d18c9/tensorflowjs-3.3.0-py3-none-any.whl (63kB)\n",
            "\r\u001b[K     |█████▏                          | 10kB 26.4MB/s eta 0:00:01\r\u001b[K     |██████████▍                     | 20kB 32.2MB/s eta 0:00:01\r\u001b[K     |███████████████▌                | 30kB 21.8MB/s eta 0:00:01\r\u001b[K     |████████████████████▊           | 40kB 25.4MB/s eta 0:00:01\r\u001b[K     |█████████████████████████▉      | 51kB 26.5MB/s eta 0:00:01\r\u001b[K     |███████████████████████████████ | 61kB 29.0MB/s eta 0:00:01\r\u001b[K     |████████████████████████████████| 71kB 8.8MB/s \n",
            "\u001b[?25hRequirement already satisfied: h5py<3,>=2.8.0 in /usr/local/lib/python3.7/dist-packages (from tensorflowjs) (2.10.0)\n",
            "Collecting tensorflow-hub<0.10,>=0.7.0\n",
            "\u001b[?25l  Downloading https://files.pythonhosted.org/packages/ac/83/a7df82744a794107641dad1decaad017d82e25f0e1f761ac9204829eef96/tensorflow_hub-0.9.0-py2.py3-none-any.whl (103kB)\n",
            "\r\u001b[K     |███▏                            | 10kB 30.5MB/s eta 0:00:01\r\u001b[K     |██████▍                         | 20kB 37.9MB/s eta 0:00:01\r\u001b[K     |█████████▌                      | 30kB 42.5MB/s eta 0:00:01\r\u001b[K     |████████████▊                   | 40kB 42.7MB/s eta 0:00:01\r\u001b[K     |███████████████▉                | 51kB 28.2MB/s eta 0:00:01\r\u001b[K     |███████████████████             | 61kB 28.3MB/s eta 0:00:01\r\u001b[K     |██████████████████████▏         | 71kB 30.4MB/s eta 0:00:01\r\u001b[K     |█████████████████████████▍      | 81kB 27.6MB/s eta 0:00:01\r\u001b[K     |████████████████████████████▋   | 92kB 25.3MB/s eta 0:00:01\r\u001b[K     |███████████████████████████████▊| 102kB 24.7MB/s eta 0:00:01\r\u001b[K     |████████████████████████████████| 112kB 24.7MB/s \n",
            "\u001b[?25hRequirement already satisfied: tensorflow<3,>=2.1.0 in /usr/local/lib/python3.7/dist-packages (from tensorflowjs) (2.4.1)\n",
            "Requirement already satisfied: six<2,>=1.12.0 in /usr/local/lib/python3.7/dist-packages (from tensorflowjs) (1.15.0)\n",
            "Requirement already satisfied: numpy>=1.7 in /usr/local/lib/python3.7/dist-packages (from h5py<3,>=2.8.0->tensorflowjs) (1.19.5)\n",
            "Requirement already satisfied: protobuf>=3.8.0 in /usr/local/lib/python3.7/dist-packages (from tensorflow-hub<0.10,>=0.7.0->tensorflowjs) (3.12.4)\n",
            "Requirement already satisfied: tensorboard~=2.4 in /usr/local/lib/python3.7/dist-packages (from tensorflow<3,>=2.1.0->tensorflowjs) (2.4.1)\n",
            "Requirement already satisfied: keras-preprocessing~=1.1.2 in /usr/local/lib/python3.7/dist-packages (from tensorflow<3,>=2.1.0->tensorflowjs) (1.1.2)\n",
            "Requirement already satisfied: termcolor~=1.1.0 in /usr/local/lib/python3.7/dist-packages (from tensorflow<3,>=2.1.0->tensorflowjs) (1.1.0)\n",
            "Requirement already satisfied: tensorflow-estimator<2.5.0,>=2.4.0 in /usr/local/lib/python3.7/dist-packages (from tensorflow<3,>=2.1.0->tensorflowjs) (2.4.0)\n",
            "Requirement already satisfied: wrapt~=1.12.1 in /usr/local/lib/python3.7/dist-packages (from tensorflow<3,>=2.1.0->tensorflowjs) (1.12.1)\n",
            "Requirement already satisfied: typing-extensions~=3.7.4 in /usr/local/lib/python3.7/dist-packages (from tensorflow<3,>=2.1.0->tensorflowjs) (3.7.4.3)\n",
            "Requirement already satisfied: wheel~=0.35 in /usr/local/lib/python3.7/dist-packages (from tensorflow<3,>=2.1.0->tensorflowjs) (0.36.2)\n",
            "Requirement already satisfied: astunparse~=1.6.3 in /usr/local/lib/python3.7/dist-packages (from tensorflow<3,>=2.1.0->tensorflowjs) (1.6.3)\n",
            "Requirement already satisfied: grpcio~=1.32.0 in /usr/local/lib/python3.7/dist-packages (from tensorflow<3,>=2.1.0->tensorflowjs) (1.32.0)\n",
            "Requirement already satisfied: gast==0.3.3 in /usr/local/lib/python3.7/dist-packages (from tensorflow<3,>=2.1.0->tensorflowjs) (0.3.3)\n",
            "Requirement already satisfied: google-pasta~=0.2 in /usr/local/lib/python3.7/dist-packages (from tensorflow<3,>=2.1.0->tensorflowjs) (0.2.0)\n",
            "Requirement already satisfied: opt-einsum~=3.3.0 in /usr/local/lib/python3.7/dist-packages (from tensorflow<3,>=2.1.0->tensorflowjs) (3.3.0)\n",
            "Requirement already satisfied: absl-py~=0.10 in /usr/local/lib/python3.7/dist-packages (from tensorflow<3,>=2.1.0->tensorflowjs) (0.10.0)\n",
            "Requirement already satisfied: flatbuffers~=1.12.0 in /usr/local/lib/python3.7/dist-packages (from tensorflow<3,>=2.1.0->tensorflowjs) (1.12)\n",
            "Requirement already satisfied: setuptools in /usr/local/lib/python3.7/dist-packages (from protobuf>=3.8.0->tensorflow-hub<0.10,>=0.7.0->tensorflowjs) (54.0.0)\n",
            "Requirement already satisfied: markdown>=2.6.8 in /usr/local/lib/python3.7/dist-packages (from tensorboard~=2.4->tensorflow<3,>=2.1.0->tensorflowjs) (3.3.4)\n",
            "Requirement already satisfied: requests<3,>=2.21.0 in /usr/local/lib/python3.7/dist-packages (from tensorboard~=2.4->tensorflow<3,>=2.1.0->tensorflowjs) (2.23.0)\n",
            "Requirement already satisfied: werkzeug>=0.11.15 in /usr/local/lib/python3.7/dist-packages (from tensorboard~=2.4->tensorflow<3,>=2.1.0->tensorflowjs) (1.0.1)\n",
            "Requirement already satisfied: google-auth<2,>=1.6.3 in /usr/local/lib/python3.7/dist-packages (from tensorboard~=2.4->tensorflow<3,>=2.1.0->tensorflowjs) (1.27.1)\n",
            "Requirement already satisfied: tensorboard-plugin-wit>=1.6.0 in /usr/local/lib/python3.7/dist-packages (from tensorboard~=2.4->tensorflow<3,>=2.1.0->tensorflowjs) (1.8.0)\n",
            "Requirement already satisfied: google-auth-oauthlib<0.5,>=0.4.1 in /usr/local/lib/python3.7/dist-packages (from tensorboard~=2.4->tensorflow<3,>=2.1.0->tensorflowjs) (0.4.3)\n",
            "Requirement already satisfied: importlib-metadata; python_version < \"3.8\" in /usr/local/lib/python3.7/dist-packages (from markdown>=2.6.8->tensorboard~=2.4->tensorflow<3,>=2.1.0->tensorflowjs) (3.7.0)\n",
            "Requirement already satisfied: idna<3,>=2.5 in /usr/local/lib/python3.7/dist-packages (from requests<3,>=2.21.0->tensorboard~=2.4->tensorflow<3,>=2.1.0->tensorflowjs) (2.10)\n",
            "Requirement already satisfied: urllib3!=1.25.0,!=1.25.1,<1.26,>=1.21.1 in /usr/local/lib/python3.7/dist-packages (from requests<3,>=2.21.0->tensorboard~=2.4->tensorflow<3,>=2.1.0->tensorflowjs) (1.24.3)\n",
            "Requirement already satisfied: certifi>=2017.4.17 in /usr/local/lib/python3.7/dist-packages (from requests<3,>=2.21.0->tensorboard~=2.4->tensorflow<3,>=2.1.0->tensorflowjs) (2020.12.5)\n",
            "Requirement already satisfied: chardet<4,>=3.0.2 in /usr/local/lib/python3.7/dist-packages (from requests<3,>=2.21.0->tensorboard~=2.4->tensorflow<3,>=2.1.0->tensorflowjs) (3.0.4)\n",
            "Requirement already satisfied: rsa<5,>=3.1.4; python_version >= \"3.6\" in /usr/local/lib/python3.7/dist-packages (from google-auth<2,>=1.6.3->tensorboard~=2.4->tensorflow<3,>=2.1.0->tensorflowjs) (4.7.2)\n",
            "Requirement already satisfied: cachetools<5.0,>=2.0.0 in /usr/local/lib/python3.7/dist-packages (from google-auth<2,>=1.6.3->tensorboard~=2.4->tensorflow<3,>=2.1.0->tensorflowjs) (4.2.1)\n",
            "Requirement already satisfied: pyasn1-modules>=0.2.1 in /usr/local/lib/python3.7/dist-packages (from google-auth<2,>=1.6.3->tensorboard~=2.4->tensorflow<3,>=2.1.0->tensorflowjs) (0.2.8)\n",
            "Requirement already satisfied: requests-oauthlib>=0.7.0 in /usr/local/lib/python3.7/dist-packages (from google-auth-oauthlib<0.5,>=0.4.1->tensorboard~=2.4->tensorflow<3,>=2.1.0->tensorflowjs) (1.3.0)\n",
            "Requirement already satisfied: zipp>=0.5 in /usr/local/lib/python3.7/dist-packages (from importlib-metadata; python_version < \"3.8\"->markdown>=2.6.8->tensorboard~=2.4->tensorflow<3,>=2.1.0->tensorflowjs) (3.4.1)\n",
            "Requirement already satisfied: pyasn1>=0.1.3 in /usr/local/lib/python3.7/dist-packages (from rsa<5,>=3.1.4; python_version >= \"3.6\"->google-auth<2,>=1.6.3->tensorboard~=2.4->tensorflow<3,>=2.1.0->tensorflowjs) (0.4.8)\n",
            "Requirement already satisfied: oauthlib>=3.0.0 in /usr/local/lib/python3.7/dist-packages (from requests-oauthlib>=0.7.0->google-auth-oauthlib<0.5,>=0.4.1->tensorboard~=2.4->tensorflow<3,>=2.1.0->tensorflowjs) (3.1.0)\n",
            "Installing collected packages: tensorflow-hub, tensorflowjs\n",
            "  Found existing installation: tensorflow-hub 0.11.0\n",
            "    Uninstalling tensorflow-hub-0.11.0:\n",
            "      Successfully uninstalled tensorflow-hub-0.11.0\n",
            "Successfully installed tensorflow-hub-0.9.0 tensorflowjs-3.3.0\n",
            "Drive already mounted at /content/drive; to attempt to forcibly remount, call drive.mount(\"/content/drive\", force_remount=True).\n"
          ],
          "name": "stdout"
        }
      ]
    },
    {
      "cell_type": "markdown",
      "metadata": {
        "id": "lBsIq_0qIXhR"
      },
      "source": [
        "# Extract and Prepare Dataset\r\n",
        "\r\n",
        "1.) Mount your Google Drive\r\n",
        "\r\n",
        "2.) Designate a directory where you want to extract your dataset (E.g. `/content/mask-on-mask-off`)."
      ]
    },
    {
      "cell_type": "code",
      "metadata": {
        "id": "LPD4HSuIIast",
        "colab": {
          "base_uri": "https://localhost:8080/"
        },
        "outputId": "ea08d898-0743-4bc6-df41-7bdf67ad29d1"
      },
      "source": [
        "# The path where to extract the dataset\r\n",
        "ARCHIVED_DATASET_PATH = '/content/drive/MyDrive/mlds/dataset/mask_on_off.zip'\r\n",
        "COLAB_DATA_SET_PATH = '/content/sample_data/mask-on-mask-off'\r\n",
        "\r\n",
        "# clean up directory\r\n",
        "!rm -R $COLAB_DATA_SET_PATH\r\n",
        "\r\n",
        "zip_ref = zipfile.ZipFile(ARCHIVED_DATASET_PATH, 'r')\r\n",
        "zip_ref.extractall(COLAB_DATA_SET_PATH)\r\n",
        "zip_ref.close()"
      ],
      "execution_count": 2,
      "outputs": [
        {
          "output_type": "stream",
          "text": [
            "rm: cannot remove '/content/sample_data/mask-on-mask-off': No such file or directory\n"
          ],
          "name": "stdout"
        }
      ]
    },
    {
      "cell_type": "markdown",
      "metadata": {
        "id": "vM7Oc7YxJg2B"
      },
      "source": [
        "# Constants / Parameters"
      ]
    },
    {
      "cell_type": "code",
      "metadata": {
        "colab": {
          "base_uri": "https://localhost:8080/"
        },
        "id": "HXrdjcwQJjnV",
        "outputId": "90332077-9031-447c-827f-a3aaa46c05b6"
      },
      "source": [
        "DESIRED_ACCURACY = 0.99\r\n",
        "\r\n",
        "dataset_path = os.path.join(COLAB_DATA_SET_PATH)\r\n",
        "print(dataset_path)\r\n",
        "\r\n",
        "IMAGE_WIDTH = 512\r\n",
        "IMAGE_HEIGHT = 512"
      ],
      "execution_count": 3,
      "outputs": [
        {
          "output_type": "stream",
          "text": [
            "/content/sample_data/mask-on-mask-off\n"
          ],
          "name": "stdout"
        }
      ]
    },
    {
      "cell_type": "markdown",
      "metadata": {
        "id": "gMCBblFdJozl"
      },
      "source": [
        "# Callbacks and Early Stopping"
      ]
    },
    {
      "cell_type": "code",
      "metadata": {
        "id": "3sjz9hM9Jqb4"
      },
      "source": [
        "class DesiredAccuracyCallback(tf.keras.callbacks.Callback):\r\n",
        "  def on_epoch_end(self, epoch, logs={}):\r\n",
        "    if logs.get('accuracy') > DESIRED_ACCURACY:\r\n",
        "      self.model.stop_training = True\r\n",
        "\r\n",
        "desired_accuract_callback = DesiredAccuracyCallback()\r\n",
        "\r\n",
        "# stop when loss is not decreasing\r\n",
        "# loss_monitor_callback = tf.keras.callbacks.EarlyStopping(\r\n",
        "#     monitor='loss',\r\n",
        "#     mode='min',\r\n",
        "#     patience=10\r\n",
        "# )\r\n",
        "\r\n",
        "# stop when accuracy is not inceasing\r\n",
        "# accuracy_monitor_callback = tf.keras.callbacks.EarlyStopping(\r\n",
        "#     monitor='accuracy',\r\n",
        "#     mode='max',\r\n",
        "#     patience=5\r\n",
        "# )\r\n",
        "\r\n",
        "# create the callbacks\r\n",
        "callbacks = [desired_accuract_callback]"
      ],
      "execution_count": 4,
      "outputs": []
    },
    {
      "cell_type": "markdown",
      "metadata": {
        "id": "rc6wUBPnJtgR"
      },
      "source": [
        "# Build the Model"
      ]
    },
    {
      "cell_type": "code",
      "metadata": {
        "colab": {
          "base_uri": "https://localhost:8080/"
        },
        "id": "4KzHDDorJvSc",
        "outputId": "c0d2af02-d9c4-44cd-feb0-28610ea1ce9e"
      },
      "source": [
        "model = tf.keras.models.Sequential([\r\n",
        "  # input layer\r\n",
        "  # first convolution\r\n",
        "  tf.keras.layers.Conv2D(128, (3, 3), activation='relu', input_shape=(IMAGE_WIDTH, IMAGE_HEIGHT, 3)),\r\n",
        "  tf.keras.layers.MaxPooling2D(2, 2),\r\n",
        "\r\n",
        "  # second convolution\r\n",
        "  tf.keras.layers.Conv2D(64, (3, 3), activation='relu'),\r\n",
        "  tf.keras.layers.MaxPooling2D(2, 2),\r\n",
        "\r\n",
        "  # third convolution\r\n",
        "  tf.keras.layers.Conv2D(64, (3, 3), activation='relu'),\r\n",
        "  tf.keras.layers.MaxPooling2D(2, 2),\r\n",
        "\r\n",
        "  # fourth convolution\r\n",
        "  tf.keras.layers.Conv2D(32, (3, 3), activation='relu'),\r\n",
        "  tf.keras.layers.MaxPooling2D(2, 2),\r\n",
        "\r\n",
        "  # fifth convolution\r\n",
        "  tf.keras.layers.Conv2D(32, (3, 3), activation='relu'),\r\n",
        "  tf.keras.layers.MaxPooling2D(2, 2),\r\n",
        "\r\n",
        "  tf.keras.layers.Conv2D(16, (3, 3), activation='relu'),\r\n",
        "  tf.keras.layers.MaxPooling2D(2, 2),\r\n",
        "\r\n",
        "  tf.keras.layers.Conv2D(16, (3, 3), activation='relu'),\r\n",
        "  tf.keras.layers.MaxPooling2D(2, 2),\r\n",
        "\r\n",
        "  # Flatten the results to feed into a DNN\r\n",
        "  tf.keras.layers.Flatten(),\r\n",
        "  tf.keras.layers.Dropout(.5),\r\n",
        "  tf.keras.layers.Dense(256, activation='relu'),\r\n",
        "\r\n",
        "  # Only 1 output neuron.\r\n",
        "  # It will contain a value from 0-1 where 0 for 1 class ('mask on') and 1 for the other ('mask off')\r\n",
        "  tf.keras.layers.Dense(1, activation='sigmoid')\r\n",
        "])\r\n",
        "\r\n",
        "model.summary()"
      ],
      "execution_count": 11,
      "outputs": [
        {
          "output_type": "stream",
          "text": [
            "Model: \"sequential_1\"\n",
            "_________________________________________________________________\n",
            "Layer (type)                 Output Shape              Param #   \n",
            "=================================================================\n",
            "conv2d_7 (Conv2D)            (None, 510, 510, 128)     3584      \n",
            "_________________________________________________________________\n",
            "max_pooling2d_7 (MaxPooling2 (None, 255, 255, 128)     0         \n",
            "_________________________________________________________________\n",
            "conv2d_8 (Conv2D)            (None, 253, 253, 64)      73792     \n",
            "_________________________________________________________________\n",
            "max_pooling2d_8 (MaxPooling2 (None, 126, 126, 64)      0         \n",
            "_________________________________________________________________\n",
            "conv2d_9 (Conv2D)            (None, 124, 124, 64)      36928     \n",
            "_________________________________________________________________\n",
            "max_pooling2d_9 (MaxPooling2 (None, 62, 62, 64)        0         \n",
            "_________________________________________________________________\n",
            "conv2d_10 (Conv2D)           (None, 60, 60, 32)        18464     \n",
            "_________________________________________________________________\n",
            "max_pooling2d_10 (MaxPooling (None, 30, 30, 32)        0         \n",
            "_________________________________________________________________\n",
            "conv2d_11 (Conv2D)           (None, 28, 28, 32)        9248      \n",
            "_________________________________________________________________\n",
            "max_pooling2d_11 (MaxPooling (None, 14, 14, 32)        0         \n",
            "_________________________________________________________________\n",
            "conv2d_12 (Conv2D)           (None, 12, 12, 16)        4624      \n",
            "_________________________________________________________________\n",
            "max_pooling2d_12 (MaxPooling (None, 6, 6, 16)          0         \n",
            "_________________________________________________________________\n",
            "conv2d_13 (Conv2D)           (None, 4, 4, 16)          2320      \n",
            "_________________________________________________________________\n",
            "max_pooling2d_13 (MaxPooling (None, 2, 2, 16)          0         \n",
            "_________________________________________________________________\n",
            "flatten_1 (Flatten)          (None, 64)                0         \n",
            "_________________________________________________________________\n",
            "dropout_1 (Dropout)          (None, 64)                0         \n",
            "_________________________________________________________________\n",
            "dense_2 (Dense)              (None, 256)               16640     \n",
            "_________________________________________________________________\n",
            "dense_3 (Dense)              (None, 1)                 257       \n",
            "=================================================================\n",
            "Total params: 165,857\n",
            "Trainable params: 165,857\n",
            "Non-trainable params: 0\n",
            "_________________________________________________________________\n"
          ],
          "name": "stdout"
        }
      ]
    },
    {
      "cell_type": "markdown",
      "metadata": {
        "id": "sP4uDrObJynT"
      },
      "source": [
        "# Compile the Model"
      ]
    },
    {
      "cell_type": "code",
      "metadata": {
        "id": "VwuBbsAsJ0ts"
      },
      "source": [
        "model.compile(\r\n",
        "  loss='binary_crossentropy',\r\n",
        "  optimizer = Adam(learning_rate=0.0003),\r\n",
        "  metrics=['accuracy']\r\n",
        ")"
      ],
      "execution_count": 12,
      "outputs": []
    },
    {
      "cell_type": "markdown",
      "metadata": {
        "id": "L29WE7mwJ7B3"
      },
      "source": [
        "# Prepare Dataset with Data Generator"
      ]
    },
    {
      "cell_type": "code",
      "metadata": {
        "colab": {
          "base_uri": "https://localhost:8080/"
        },
        "id": "CORVgahwJ7xw",
        "outputId": "5e985e13-43fa-46d1-b4b3-cc212b8fd32d"
      },
      "source": [
        "# All images will be rescaled by 1./255\r\n",
        "train_datagen = ImageDataGenerator(\r\n",
        "  rescale=1./255,\r\n",
        "  shear_range=0.2,\r\n",
        "  zoom_range=0.2,\r\n",
        "  height_shift_range=0.2,\r\n",
        "  rotation_range=30,\r\n",
        "  horizontal_flip=True,\r\n",
        "  validation_split=0.2\r\n",
        ")\r\n",
        "\r\n",
        "# training data generator\r\n",
        "train_generator = train_datagen.flow_from_directory(\r\n",
        "  dataset_path,\r\n",
        "  target_size=(IMAGE_WIDTH, IMAGE_HEIGHT),\r\n",
        "  batch_size=32,\r\n",
        "  class_mode='binary',\r\n",
        "  subset='training'\r\n",
        ")\r\n",
        "\r\n",
        "# validation data generator\r\n",
        "validation_generator = train_datagen.flow_from_directory(\r\n",
        "  dataset_path,\r\n",
        "  target_size=(IMAGE_WIDTH, IMAGE_HEIGHT),\r\n",
        "  batch_size=32,\r\n",
        "  class_mode='binary',\r\n",
        "  subset='validation'\r\n",
        ")"
      ],
      "execution_count": 13,
      "outputs": [
        {
          "output_type": "stream",
          "text": [
            "Found 5056 images belonging to 2 classes.\n",
            "Found 1264 images belonging to 2 classes.\n"
          ],
          "name": "stdout"
        }
      ]
    },
    {
      "cell_type": "markdown",
      "metadata": {
        "id": "Wk7mC8_gKFEf"
      },
      "source": [
        "# Train / Fit"
      ]
    },
    {
      "cell_type": "code",
      "metadata": {
        "colab": {
          "base_uri": "https://localhost:8080/"
        },
        "id": "ICxKDC4jKHSE",
        "outputId": "4474180c-6b13-4c93-9739-feb0e2dfb403"
      },
      "source": [
        "history = model.fit(\r\n",
        "  train_generator,\r\n",
        "  validation_data=validation_generator,\r\n",
        "  steps_per_epoch=16,\r\n",
        "  validation_steps=16,\r\n",
        "  epochs=150,\r\n",
        "  verbose=1,\r\n",
        "  callbacks=callbacks\r\n",
        ")"
      ],
      "execution_count": null,
      "outputs": [
        {
          "output_type": "stream",
          "text": [
            "Epoch 1/150\n",
            "16/16 [==============================] - 64s 4s/step - loss: 0.6939 - accuracy: 0.4807 - val_loss: 0.6927 - val_accuracy: 0.5020\n",
            "Epoch 2/150\n",
            "16/16 [==============================] - 61s 4s/step - loss: 0.6922 - accuracy: 0.5052 - val_loss: 0.6898 - val_accuracy: 0.6992\n",
            "Epoch 3/150\n",
            "16/16 [==============================] - 61s 4s/step - loss: 0.6884 - accuracy: 0.5954 - val_loss: 0.6792 - val_accuracy: 0.7461\n",
            "Epoch 4/150\n",
            "16/16 [==============================] - 61s 4s/step - loss: 0.6770 - accuracy: 0.5845 - val_loss: 0.6712 - val_accuracy: 0.4961\n",
            "Epoch 5/150\n",
            "16/16 [==============================] - 61s 4s/step - loss: 0.6280 - accuracy: 0.6825 - val_loss: 0.5250 - val_accuracy: 0.8145\n",
            "Epoch 6/150\n",
            "16/16 [==============================] - 61s 4s/step - loss: 0.5286 - accuracy: 0.7451 - val_loss: 0.4649 - val_accuracy: 0.8281\n",
            "Epoch 7/150\n",
            "16/16 [==============================] - 61s 4s/step - loss: 0.4542 - accuracy: 0.8269 - val_loss: 0.4046 - val_accuracy: 0.8438\n",
            "Epoch 8/150\n",
            "16/16 [==============================] - 60s 4s/step - loss: 0.4719 - accuracy: 0.7852 - val_loss: 0.3649 - val_accuracy: 0.8652\n",
            "Epoch 9/150\n",
            "16/16 [==============================] - 60s 4s/step - loss: 0.4595 - accuracy: 0.8105 - val_loss: 0.3499 - val_accuracy: 0.8906\n",
            "Epoch 10/150\n",
            "16/16 [==============================] - 61s 4s/step - loss: 0.4680 - accuracy: 0.7713 - val_loss: 0.3163 - val_accuracy: 0.8945\n",
            "Epoch 11/150\n",
            "16/16 [==============================] - 60s 4s/step - loss: 0.4270 - accuracy: 0.8342 - val_loss: 0.3514 - val_accuracy: 0.8340\n",
            "Epoch 12/150\n",
            "16/16 [==============================] - 60s 4s/step - loss: 0.3934 - accuracy: 0.8154 - val_loss: 0.2313 - val_accuracy: 0.9160\n",
            "Epoch 13/150\n",
            "16/16 [==============================] - 60s 4s/step - loss: 0.3775 - accuracy: 0.8312 - val_loss: 0.2802 - val_accuracy: 0.8926\n",
            "Epoch 14/150\n",
            "16/16 [==============================] - 60s 4s/step - loss: 0.4044 - accuracy: 0.8442 - val_loss: 0.2792 - val_accuracy: 0.9180\n",
            "Epoch 15/150\n",
            "16/16 [==============================] - 60s 4s/step - loss: 0.4307 - accuracy: 0.8065 - val_loss: 0.2120 - val_accuracy: 0.9238\n",
            "Epoch 16/150\n",
            "16/16 [==============================] - 60s 4s/step - loss: 0.3873 - accuracy: 0.8188 - val_loss: 0.2597 - val_accuracy: 0.9062\n",
            "Epoch 17/150\n",
            "16/16 [==============================] - 60s 4s/step - loss: 0.2944 - accuracy: 0.8974 - val_loss: 0.2863 - val_accuracy: 0.8613\n",
            "Epoch 18/150\n",
            "16/16 [==============================] - 60s 4s/step - loss: 0.4373 - accuracy: 0.8234 - val_loss: 0.2271 - val_accuracy: 0.9219\n",
            "Epoch 19/150\n",
            "16/16 [==============================] - 60s 4s/step - loss: 0.3720 - accuracy: 0.8422 - val_loss: 0.2520 - val_accuracy: 0.9004\n",
            "Epoch 20/150\n",
            "16/16 [==============================] - 60s 4s/step - loss: 0.3400 - accuracy: 0.8749 - val_loss: 0.3196 - val_accuracy: 0.8789\n",
            "Epoch 21/150\n",
            "16/16 [==============================] - 60s 4s/step - loss: 0.3531 - accuracy: 0.8614 - val_loss: 0.2101 - val_accuracy: 0.9199\n",
            "Epoch 22/150\n",
            "16/16 [==============================] - 60s 4s/step - loss: 0.2892 - accuracy: 0.8895 - val_loss: 0.2032 - val_accuracy: 0.9160\n",
            "Epoch 23/150\n",
            "16/16 [==============================] - 60s 4s/step - loss: 0.3382 - accuracy: 0.8512 - val_loss: 0.2643 - val_accuracy: 0.9023\n",
            "Epoch 24/150\n",
            "16/16 [==============================] - 60s 4s/step - loss: 0.3167 - accuracy: 0.8576 - val_loss: 0.2724 - val_accuracy: 0.8945\n",
            "Epoch 25/150\n",
            "16/16 [==============================] - 60s 4s/step - loss: 0.3460 - accuracy: 0.8656 - val_loss: 0.2288 - val_accuracy: 0.9180\n",
            "Epoch 26/150\n",
            "16/16 [==============================] - 60s 4s/step - loss: 0.3179 - accuracy: 0.8613 - val_loss: 0.1752 - val_accuracy: 0.9297\n",
            "Epoch 27/150\n",
            "16/16 [==============================] - 60s 4s/step - loss: 0.2959 - accuracy: 0.8973 - val_loss: 0.1949 - val_accuracy: 0.9277\n",
            "Epoch 28/150\n",
            "16/16 [==============================] - 60s 4s/step - loss: 0.3933 - accuracy: 0.8439 - val_loss: 0.2898 - val_accuracy: 0.8809\n",
            "Epoch 29/150\n",
            "16/16 [==============================] - 60s 4s/step - loss: 0.3243 - accuracy: 0.8624 - val_loss: 0.3266 - val_accuracy: 0.8438\n",
            "Epoch 30/150\n",
            "16/16 [==============================] - 60s 4s/step - loss: 0.3305 - accuracy: 0.8567 - val_loss: 0.2761 - val_accuracy: 0.9082\n",
            "Epoch 31/150\n",
            "16/16 [==============================] - 60s 4s/step - loss: 0.2454 - accuracy: 0.9243 - val_loss: 0.1456 - val_accuracy: 0.9492\n",
            "Epoch 32/150\n",
            "16/16 [==============================] - 60s 4s/step - loss: 0.3167 - accuracy: 0.8588 - val_loss: 0.1997 - val_accuracy: 0.9375\n",
            "Epoch 33/150\n",
            "16/16 [==============================] - 60s 4s/step - loss: 0.2800 - accuracy: 0.8965 - val_loss: 0.1487 - val_accuracy: 0.9609\n",
            "Epoch 34/150\n",
            "16/16 [==============================] - 60s 4s/step - loss: 0.2486 - accuracy: 0.9049 - val_loss: 0.2751 - val_accuracy: 0.8730\n",
            "Epoch 35/150\n",
            "16/16 [==============================] - 60s 4s/step - loss: 0.2150 - accuracy: 0.9315 - val_loss: 0.2617 - val_accuracy: 0.8809\n",
            "Epoch 36/150\n",
            "16/16 [==============================] - 60s 4s/step - loss: 0.2475 - accuracy: 0.9126 - val_loss: 0.2052 - val_accuracy: 0.9258\n",
            "Epoch 37/150\n",
            "16/16 [==============================] - 60s 4s/step - loss: 0.2807 - accuracy: 0.8882 - val_loss: 0.1858 - val_accuracy: 0.9219\n",
            "Epoch 38/150\n",
            "16/16 [==============================] - 60s 4s/step - loss: 0.2064 - accuracy: 0.9180 - val_loss: 0.1949 - val_accuracy: 0.9219\n",
            "Epoch 39/150\n",
            "16/16 [==============================] - 60s 4s/step - loss: 0.2130 - accuracy: 0.9164 - val_loss: 0.1584 - val_accuracy: 0.9434\n",
            "Epoch 40/150\n",
            "16/16 [==============================] - 60s 4s/step - loss: 0.2663 - accuracy: 0.8793 - val_loss: 0.2684 - val_accuracy: 0.8906\n",
            "Epoch 41/150\n",
            "16/16 [==============================] - 60s 4s/step - loss: 0.2233 - accuracy: 0.9164 - val_loss: 0.2136 - val_accuracy: 0.9297\n",
            "Epoch 42/150\n",
            "16/16 [==============================] - 60s 4s/step - loss: 0.2626 - accuracy: 0.8990 - val_loss: 0.1686 - val_accuracy: 0.9414\n",
            "Epoch 43/150\n",
            "16/16 [==============================] - 60s 4s/step - loss: 0.2122 - accuracy: 0.9118 - val_loss: 0.2179 - val_accuracy: 0.9141\n",
            "Epoch 44/150\n",
            "16/16 [==============================] - 60s 4s/step - loss: 0.2032 - accuracy: 0.9101 - val_loss: 0.1782 - val_accuracy: 0.9316\n",
            "Epoch 45/150\n",
            "16/16 [==============================] - 61s 4s/step - loss: 0.2011 - accuracy: 0.9114 - val_loss: 0.1428 - val_accuracy: 0.9434\n",
            "Epoch 46/150\n",
            "16/16 [==============================] - 61s 4s/step - loss: 0.2398 - accuracy: 0.8988 - val_loss: 0.1623 - val_accuracy: 0.9395\n",
            "Epoch 47/150\n",
            "16/16 [==============================] - 60s 4s/step - loss: 0.1812 - accuracy: 0.9365 - val_loss: 0.1212 - val_accuracy: 0.9590\n",
            "Epoch 48/150\n",
            "16/16 [==============================] - 60s 4s/step - loss: 0.2979 - accuracy: 0.8799 - val_loss: 0.1465 - val_accuracy: 0.9629\n",
            "Epoch 49/150\n",
            "16/16 [==============================] - 61s 4s/step - loss: 0.2225 - accuracy: 0.9068 - val_loss: 0.3159 - val_accuracy: 0.8652\n",
            "Epoch 50/150\n",
            "16/16 [==============================] - 60s 4s/step - loss: 0.1874 - accuracy: 0.9234 - val_loss: 0.1708 - val_accuracy: 0.9180\n",
            "Epoch 51/150\n",
            "16/16 [==============================] - 60s 4s/step - loss: 0.2139 - accuracy: 0.9196 - val_loss: 0.2272 - val_accuracy: 0.9141\n",
            "Epoch 52/150\n",
            "16/16 [==============================] - 60s 4s/step - loss: 0.2467 - accuracy: 0.9085 - val_loss: 0.2118 - val_accuracy: 0.9238\n",
            "Epoch 53/150\n",
            "16/16 [==============================] - 60s 4s/step - loss: 0.2175 - accuracy: 0.9286 - val_loss: 0.1537 - val_accuracy: 0.9395\n",
            "Epoch 54/150\n",
            "16/16 [==============================] - 60s 4s/step - loss: 0.2064 - accuracy: 0.9278 - val_loss: 0.1933 - val_accuracy: 0.9102\n",
            "Epoch 55/150\n",
            "16/16 [==============================] - 60s 4s/step - loss: 0.1735 - accuracy: 0.9224 - val_loss: 0.2166 - val_accuracy: 0.9160\n",
            "Epoch 56/150\n",
            "16/16 [==============================] - 61s 4s/step - loss: 0.2194 - accuracy: 0.9151 - val_loss: 0.1660 - val_accuracy: 0.9434\n",
            "Epoch 57/150\n",
            "16/16 [==============================] - 60s 4s/step - loss: 0.1943 - accuracy: 0.9385 - val_loss: 0.1841 - val_accuracy: 0.9414\n",
            "Epoch 58/150\n",
            "16/16 [==============================] - 60s 4s/step - loss: 0.1463 - accuracy: 0.9423 - val_loss: 0.2315 - val_accuracy: 0.9141\n",
            "Epoch 59/150\n",
            "16/16 [==============================] - 60s 4s/step - loss: 0.1866 - accuracy: 0.9240 - val_loss: 0.2204 - val_accuracy: 0.9062\n",
            "Epoch 60/150\n",
            "16/16 [==============================] - 60s 4s/step - loss: 0.1737 - accuracy: 0.9360 - val_loss: 0.1608 - val_accuracy: 0.9414\n",
            "Epoch 61/150\n",
            "16/16 [==============================] - 60s 4s/step - loss: 0.1752 - accuracy: 0.9124 - val_loss: 0.1473 - val_accuracy: 0.9395\n",
            "Epoch 62/150\n",
            "16/16 [==============================] - 60s 4s/step - loss: 0.1979 - accuracy: 0.9150 - val_loss: 0.1297 - val_accuracy: 0.9629\n",
            "Epoch 63/150\n",
            "16/16 [==============================] - 60s 4s/step - loss: 0.1755 - accuracy: 0.9373 - val_loss: 0.2393 - val_accuracy: 0.8828\n",
            "Epoch 64/150\n",
            "16/16 [==============================] - 60s 4s/step - loss: 0.1985 - accuracy: 0.9302 - val_loss: 0.2256 - val_accuracy: 0.9199\n",
            "Epoch 65/150\n",
            "16/16 [==============================] - 60s 4s/step - loss: 0.1813 - accuracy: 0.9352 - val_loss: 0.1422 - val_accuracy: 0.9473\n",
            "Epoch 66/150\n",
            "16/16 [==============================] - 60s 4s/step - loss: 0.1538 - accuracy: 0.9417 - val_loss: 0.1520 - val_accuracy: 0.9316\n",
            "Epoch 67/150\n",
            "16/16 [==============================] - 60s 4s/step - loss: 0.2027 - accuracy: 0.9209 - val_loss: 0.1937 - val_accuracy: 0.9219\n",
            "Epoch 68/150\n",
            "16/16 [==============================] - 60s 4s/step - loss: 0.1791 - accuracy: 0.9304 - val_loss: 0.1689 - val_accuracy: 0.9297\n",
            "Epoch 69/150\n",
            "16/16 [==============================] - 61s 4s/step - loss: 0.1347 - accuracy: 0.9596 - val_loss: 0.2331 - val_accuracy: 0.9043\n",
            "Epoch 70/150\n",
            "16/16 [==============================] - 61s 4s/step - loss: 0.1807 - accuracy: 0.9402 - val_loss: 0.2563 - val_accuracy: 0.8906\n",
            "Epoch 71/150\n",
            "16/16 [==============================] - 61s 4s/step - loss: 0.1468 - accuracy: 0.9565 - val_loss: 0.4064 - val_accuracy: 0.8164\n",
            "Epoch 72/150\n",
            "16/16 [==============================] - 61s 4s/step - loss: 0.1651 - accuracy: 0.9332 - val_loss: 0.2993 - val_accuracy: 0.8652\n",
            "Epoch 73/150\n",
            "16/16 [==============================] - 61s 4s/step - loss: 0.2114 - accuracy: 0.9135 - val_loss: 0.2240 - val_accuracy: 0.8926\n",
            "Epoch 74/150\n",
            "16/16 [==============================] - 60s 4s/step - loss: 0.1417 - accuracy: 0.9488 - val_loss: 0.1674 - val_accuracy: 0.9297\n",
            "Epoch 75/150\n",
            "16/16 [==============================] - 60s 4s/step - loss: 0.1881 - accuracy: 0.9235 - val_loss: 0.2439 - val_accuracy: 0.8945\n",
            "Epoch 76/150\n",
            "16/16 [==============================] - 60s 4s/step - loss: 0.1677 - accuracy: 0.9535 - val_loss: 0.2978 - val_accuracy: 0.8750\n",
            "Epoch 77/150\n",
            "16/16 [==============================] - 60s 4s/step - loss: 0.1579 - accuracy: 0.9412 - val_loss: 0.1190 - val_accuracy: 0.9570\n",
            "Epoch 78/150\n",
            "16/16 [==============================] - 60s 4s/step - loss: 0.1305 - accuracy: 0.9469 - val_loss: 0.1516 - val_accuracy: 0.9297\n",
            "Epoch 79/150\n",
            "16/16 [==============================] - 60s 4s/step - loss: 0.1661 - accuracy: 0.9242 - val_loss: 0.1322 - val_accuracy: 0.9648\n",
            "Epoch 80/150\n",
            "16/16 [==============================] - 60s 4s/step - loss: 0.1853 - accuracy: 0.9270 - val_loss: 0.1430 - val_accuracy: 0.9414\n",
            "Epoch 81/150\n",
            "16/16 [==============================] - 60s 4s/step - loss: 0.0961 - accuracy: 0.9707 - val_loss: 0.1069 - val_accuracy: 0.9648\n",
            "Epoch 82/150\n",
            "16/16 [==============================] - 60s 4s/step - loss: 0.1330 - accuracy: 0.9343 - val_loss: 0.1534 - val_accuracy: 0.9453\n",
            "Epoch 83/150\n",
            "16/16 [==============================] - 60s 4s/step - loss: 0.1382 - accuracy: 0.9413 - val_loss: 0.0881 - val_accuracy: 0.9766\n",
            "Epoch 84/150\n",
            "16/16 [==============================] - 60s 4s/step - loss: 0.1289 - accuracy: 0.9407 - val_loss: 0.1112 - val_accuracy: 0.9668\n",
            "Epoch 85/150\n",
            "16/16 [==============================] - 60s 4s/step - loss: 0.1197 - accuracy: 0.9549 - val_loss: 0.2345 - val_accuracy: 0.9023\n",
            "Epoch 86/150\n",
            "16/16 [==============================] - 61s 4s/step - loss: 0.1533 - accuracy: 0.9513 - val_loss: 0.2214 - val_accuracy: 0.9258\n",
            "Epoch 87/150\n",
            "16/16 [==============================] - 61s 4s/step - loss: 0.1777 - accuracy: 0.9222 - val_loss: 0.1495 - val_accuracy: 0.9395\n",
            "Epoch 88/150\n",
            "16/16 [==============================] - 61s 4s/step - loss: 0.1264 - accuracy: 0.9591 - val_loss: 0.1482 - val_accuracy: 0.9395\n",
            "Epoch 89/150\n",
            "16/16 [==============================] - 60s 4s/step - loss: 0.1387 - accuracy: 0.9526 - val_loss: 0.1609 - val_accuracy: 0.9395\n",
            "Epoch 90/150\n",
            "16/16 [==============================] - 61s 4s/step - loss: 0.0850 - accuracy: 0.9710 - val_loss: 0.3292 - val_accuracy: 0.8359\n",
            "Epoch 91/150\n",
            "16/16 [==============================] - 61s 4s/step - loss: 0.1457 - accuracy: 0.9371 - val_loss: 0.2588 - val_accuracy: 0.8867\n",
            "Epoch 92/150\n",
            "16/16 [==============================] - 60s 4s/step - loss: 0.1130 - accuracy: 0.9612 - val_loss: 0.2551 - val_accuracy: 0.9043\n",
            "Epoch 93/150\n",
            "16/16 [==============================] - 60s 4s/step - loss: 0.1903 - accuracy: 0.9167 - val_loss: 0.1020 - val_accuracy: 0.9707\n",
            "Epoch 94/150\n",
            "16/16 [==============================] - 60s 4s/step - loss: 0.1314 - accuracy: 0.9612 - val_loss: 0.1539 - val_accuracy: 0.9551\n",
            "Epoch 95/150\n",
            "16/16 [==============================] - 60s 4s/step - loss: 0.1156 - accuracy: 0.9553 - val_loss: 0.2093 - val_accuracy: 0.9082\n",
            "Epoch 96/150\n",
            "16/16 [==============================] - 60s 4s/step - loss: 0.1276 - accuracy: 0.9491 - val_loss: 0.3267 - val_accuracy: 0.8652\n",
            "Epoch 97/150\n",
            "16/16 [==============================] - 61s 4s/step - loss: 0.1300 - accuracy: 0.9489 - val_loss: 0.2781 - val_accuracy: 0.8730\n",
            "Epoch 98/150\n",
            "16/16 [==============================] - 61s 4s/step - loss: 0.1569 - accuracy: 0.9320 - val_loss: 0.2470 - val_accuracy: 0.8926\n",
            "Epoch 99/150\n",
            "16/16 [==============================] - 60s 4s/step - loss: 0.1492 - accuracy: 0.9478 - val_loss: 0.1605 - val_accuracy: 0.9492\n",
            "Epoch 100/150\n",
            "16/16 [==============================] - 61s 4s/step - loss: 0.1351 - accuracy: 0.9479 - val_loss: 0.1903 - val_accuracy: 0.9219\n",
            "Epoch 101/150\n",
            "16/16 [==============================] - 61s 4s/step - loss: 0.1079 - accuracy: 0.9591 - val_loss: 0.1921 - val_accuracy: 0.9238\n",
            "Epoch 102/150\n",
            "16/16 [==============================] - 61s 4s/step - loss: 0.0979 - accuracy: 0.9646 - val_loss: 0.2717 - val_accuracy: 0.8848\n",
            "Epoch 103/150\n",
            "16/16 [==============================] - 61s 4s/step - loss: 0.1593 - accuracy: 0.9240 - val_loss: 0.2229 - val_accuracy: 0.9121\n",
            "Epoch 104/150\n",
            "16/16 [==============================] - 61s 4s/step - loss: 0.1528 - accuracy: 0.9454 - val_loss: 0.2636 - val_accuracy: 0.8848\n",
            "Epoch 105/150\n",
            "16/16 [==============================] - 60s 4s/step - loss: 0.0960 - accuracy: 0.9703 - val_loss: 0.2763 - val_accuracy: 0.8965\n",
            "Epoch 106/150\n",
            "16/16 [==============================] - 60s 4s/step - loss: 0.1972 - accuracy: 0.9312 - val_loss: 0.1820 - val_accuracy: 0.9297\n",
            "Epoch 107/150\n",
            "16/16 [==============================] - 60s 4s/step - loss: 0.1391 - accuracy: 0.9478 - val_loss: 0.1266 - val_accuracy: 0.9629\n",
            "Epoch 108/150\n",
            "16/16 [==============================] - 60s 4s/step - loss: 0.1582 - accuracy: 0.9311 - val_loss: 0.1117 - val_accuracy: 0.9570\n",
            "Epoch 109/150\n",
            "16/16 [==============================] - 60s 4s/step - loss: 0.0801 - accuracy: 0.9702 - val_loss: 0.1980 - val_accuracy: 0.9180\n",
            "Epoch 110/150\n",
            "16/16 [==============================] - 60s 4s/step - loss: 0.1098 - accuracy: 0.9549 - val_loss: 0.1619 - val_accuracy: 0.9316\n",
            "Epoch 111/150\n",
            "16/16 [==============================] - 60s 4s/step - loss: 0.0982 - accuracy: 0.9666 - val_loss: 0.3103 - val_accuracy: 0.8984\n",
            "Epoch 112/150\n",
            "16/16 [==============================] - 60s 4s/step - loss: 0.0953 - accuracy: 0.9590 - val_loss: 0.1022 - val_accuracy: 0.9668\n",
            "Epoch 113/150\n",
            "16/16 [==============================] - 60s 4s/step - loss: 0.1583 - accuracy: 0.9387 - val_loss: 0.1411 - val_accuracy: 0.9414\n",
            "Epoch 114/150\n",
            "16/16 [==============================] - 60s 4s/step - loss: 0.1370 - accuracy: 0.9579 - val_loss: 0.1886 - val_accuracy: 0.9375\n",
            "Epoch 115/150\n",
            "16/16 [==============================] - 60s 4s/step - loss: 0.1231 - accuracy: 0.9565 - val_loss: 0.1001 - val_accuracy: 0.9688\n",
            "Epoch 116/150\n",
            "16/16 [==============================] - 60s 4s/step - loss: 0.0895 - accuracy: 0.9592 - val_loss: 0.1573 - val_accuracy: 0.9492\n",
            "Epoch 117/150\n",
            "16/16 [==============================] - 60s 4s/step - loss: 0.1147 - accuracy: 0.9569 - val_loss: 0.1459 - val_accuracy: 0.9414\n",
            "Epoch 118/150\n",
            "16/16 [==============================] - 60s 4s/step - loss: 0.0758 - accuracy: 0.9674 - val_loss: 0.1632 - val_accuracy: 0.9414\n",
            "Epoch 119/150\n",
            "16/16 [==============================] - 60s 4s/step - loss: 0.1526 - accuracy: 0.9379 - val_loss: 0.1532 - val_accuracy: 0.9395\n",
            "Epoch 120/150\n",
            "16/16 [==============================] - 60s 4s/step - loss: 0.1097 - accuracy: 0.9487 - val_loss: 0.2632 - val_accuracy: 0.8984\n",
            "Epoch 121/150\n",
            "16/16 [==============================] - 60s 4s/step - loss: 0.1408 - accuracy: 0.9405 - val_loss: 0.3442 - val_accuracy: 0.8535\n",
            "Epoch 122/150\n",
            "16/16 [==============================] - 60s 4s/step - loss: 0.2309 - accuracy: 0.9159 - val_loss: 0.1573 - val_accuracy: 0.9395\n",
            "Epoch 123/150\n",
            "16/16 [==============================] - 60s 4s/step - loss: 0.0963 - accuracy: 0.9676 - val_loss: 0.1087 - val_accuracy: 0.9688\n",
            "Epoch 124/150\n",
            "16/16 [==============================] - 60s 4s/step - loss: 0.0720 - accuracy: 0.9836 - val_loss: 0.1214 - val_accuracy: 0.9473\n",
            "Epoch 125/150\n",
            "16/16 [==============================] - 60s 4s/step - loss: 0.0957 - accuracy: 0.9706 - val_loss: 0.3016 - val_accuracy: 0.8770\n",
            "Epoch 126/150\n",
            "16/16 [==============================] - 60s 4s/step - loss: 0.0824 - accuracy: 0.9694 - val_loss: 0.1478 - val_accuracy: 0.9375\n",
            "Epoch 127/150\n",
            "16/16 [==============================] - 60s 4s/step - loss: 0.0872 - accuracy: 0.9634 - val_loss: 0.1719 - val_accuracy: 0.9355\n",
            "Epoch 128/150\n",
            "16/16 [==============================] - 61s 4s/step - loss: 0.1029 - accuracy: 0.9678 - val_loss: 0.2042 - val_accuracy: 0.9219\n",
            "Epoch 129/150\n",
            "16/16 [==============================] - 60s 4s/step - loss: 0.0834 - accuracy: 0.9729 - val_loss: 0.0803 - val_accuracy: 0.9766\n",
            "Epoch 130/150\n",
            "16/16 [==============================] - 60s 4s/step - loss: 0.1013 - accuracy: 0.9688 - val_loss: 0.1018 - val_accuracy: 0.9609\n",
            "Epoch 131/150\n",
            "16/16 [==============================] - 60s 4s/step - loss: 0.0930 - accuracy: 0.9632 - val_loss: 0.2128 - val_accuracy: 0.9082\n",
            "Epoch 132/150\n",
            "16/16 [==============================] - 60s 4s/step - loss: 0.0951 - accuracy: 0.9721 - val_loss: 0.2219 - val_accuracy: 0.9219\n",
            "Epoch 133/150\n",
            "16/16 [==============================] - 60s 4s/step - loss: 0.1281 - accuracy: 0.9510 - val_loss: 0.1583 - val_accuracy: 0.9355\n",
            "Epoch 134/150\n",
            "16/16 [==============================] - 60s 4s/step - loss: 0.0856 - accuracy: 0.9662 - val_loss: 0.1735 - val_accuracy: 0.9355\n",
            "Epoch 135/150\n",
            "16/16 [==============================] - 60s 4s/step - loss: 0.0872 - accuracy: 0.9702 - val_loss: 0.0995 - val_accuracy: 0.9590\n",
            "Epoch 136/150\n",
            "11/16 [===================>..........] - ETA: 9s - loss: 0.0795 - accuracy: 0.9715 "
          ],
          "name": "stdout"
        }
      ]
    },
    {
      "cell_type": "markdown",
      "metadata": {
        "id": "XWA0VqeDKNLL"
      },
      "source": [
        "# Plot the Training History"
      ]
    },
    {
      "cell_type": "code",
      "metadata": {
        "id": "_-77rvoXKPTH"
      },
      "source": [
        "acc = history.history['accuracy']\r\n",
        "val_acc = history.history['val_accuracy']\r\n",
        "loss = history.history['loss']\r\n",
        "val_loss = history.history['val_loss']\r\n",
        "\r\n",
        "epochs = range(len(acc))\r\n",
        "\r\n",
        "plt.plot(epochs, acc, 'r', label='Training accuracy')\r\n",
        "plt.plot(epochs, val_acc, 'b', label='Validation accuracy')\r\n",
        "plt.title('Training and validation accuracy')\r\n",
        "plt.legend()\r\n",
        "\r\n",
        "plt.figure()\r\n",
        "\r\n",
        "plt.plot(epochs, loss, 'r', label='Training Loss')\r\n",
        "plt.plot(epochs, val_loss, 'b', label='Validation Loss')\r\n",
        "plt.title('Training and validation loss')\r\n",
        "plt.legend()\r\n",
        "\r\n",
        "plt.show()"
      ],
      "execution_count": null,
      "outputs": []
    },
    {
      "cell_type": "markdown",
      "metadata": {
        "id": "ty0aA7ajKStZ"
      },
      "source": [
        "#Evaluate the Model"
      ]
    },
    {
      "cell_type": "code",
      "metadata": {
        "id": "iknKw4qzDqt4"
      },
      "source": [
        "def infer(class_names, model, x):\r\n",
        "  \r\n",
        "  prediction = model.predict(x)\r\n",
        "  result_index = np.argmax(prediction)\r\n",
        "  probability = prediction[0][result_index]\r\n",
        "  prediction_class_index = round(prediction[0][result_index])\r\n",
        "\r\n",
        "  return probability, class_names[prediction_class_index]"
      ],
      "execution_count": null,
      "outputs": []
    },
    {
      "cell_type": "code",
      "metadata": {
        "id": "ip3AP0SZKUs9"
      },
      "source": [
        "COLAB_EVAL_DATASET_PATH = '/content/drive/MyDrive/mlds/dataset/evaluation_data_set'\r\n",
        "data_dir = pathlib.Path(COLAB_EVAL_DATASET_PATH)\r\n",
        "\r\n",
        "eval_ds = tf.keras.preprocessing.image_dataset_from_directory(\r\n",
        "  COLAB_EVAL_DATASET_PATH,\r\n",
        "  seed=123,\r\n",
        "  image_size=(IMAGE_WIDTH, IMAGE_HEIGHT)\r\n",
        ")\r\n",
        "\r\n",
        "class_names = eval_ds.class_names\r\n",
        "\r\n",
        "# ma_onsk on inference example\r\n",
        "samples = 9\r\n",
        "mask_on_image_paths = list(data_dir.glob('mask_on/*.jpg'))\r\n",
        "mask_off_image_paths = list(data_dir.glob('mask_off/*.jpg'))\r\n",
        "image_paths = mask_on_image_paths + mask_off_image_paths\r\n",
        "random.shuffle(image_paths)\r\n",
        "\r\n",
        "paths_sample = random.sample(image_paths, samples)\r\n",
        "\r\n",
        "plt.figure(figsize=(12, 12))\r\n",
        "\r\n",
        "for i in range(samples):\r\n",
        "  image = tf.keras.preprocessing.image.load_img(paths_sample[i])\r\n",
        "  image = image.resize((IMAGE_WIDTH, IMAGE_HEIGHT))\r\n",
        "  image = tf.keras.preprocessing.image.img_to_array(image)\r\n",
        "\r\n",
        "  plt.subplot(3, 3, i + 1)\r\n",
        "  plt.subplots_adjust(wspace=0.2, hspace=0.5)\r\n",
        "  plt.imshow(image.astype(\"uint8\"))\r\n",
        "  # plt.axis(\"off\")\r\n",
        "\r\n",
        "  image_input = tf.expand_dims(image, axis=0)\r\n",
        "  probability, class_name = infer(class_names, model, image_input)\r\n",
        "  plt.title('prediction = {}\\nclass = {}'.format(probability, class_name))"
      ],
      "execution_count": null,
      "outputs": []
    },
    {
      "cell_type": "markdown",
      "metadata": {
        "id": "pBf_i3tWKgtK"
      },
      "source": [
        "# Save the Model"
      ]
    },
    {
      "cell_type": "code",
      "metadata": {
        "id": "63yq8NAJKiL8"
      },
      "source": [
        "models_dir_path = '/content/models'\r\n",
        "model_path = models_dir_path + '/moo.h5'\r\n",
        "\r\n",
        "model.save(model_path)"
      ],
      "execution_count": null,
      "outputs": []
    },
    {
      "cell_type": "markdown",
      "metadata": {
        "id": "vwuYN7HKKkSS"
      },
      "source": [
        "# Convert the Model to Javascript"
      ]
    },
    {
      "cell_type": "code",
      "metadata": {
        "id": "FTdhfH3iKnRk",
        "colab": {
          "base_uri": "https://localhost:8080/"
        },
        "outputId": "446c818b-6aef-47d0-b9da-7d3a6e972b80"
      },
      "source": [
        "!tensorflowjs_converter --input_format keras $model_path $models_dir_path\r\n",
        "\r\n",
        "zip_store_path = '/content/drive/MyDrive/ml_ai/moo_models_{}.zip'.format(int(time.time()))\r\n",
        "\r\n",
        "!zip -r $zip_store_path $models_dir_path"
      ],
      "execution_count": 6,
      "outputs": [
        {
          "output_type": "stream",
          "text": [
            "2021-03-13 12:51:18.890641: I tensorflow/stream_executor/platform/default/dso_loader.cc:49] Successfully opened dynamic library libcudart.so.11.0\n",
            "Traceback (most recent call last):\n",
            "  File \"/usr/local/bin/tensorflowjs_converter\", line 8, in <module>\n",
            "    sys.exit(pip_main())\n",
            "  File \"/usr/local/lib/python3.7/dist-packages/tensorflowjs/converters/converter.py\", line 813, in pip_main\n",
            "    main([' '.join(sys.argv[1:])])\n",
            "  File \"/usr/local/lib/python3.7/dist-packages/tensorflowjs/converters/converter.py\", line 817, in main\n",
            "    convert(argv[0].split(' '))\n",
            "  File \"/usr/local/lib/python3.7/dist-packages/tensorflowjs/converters/converter.py\", line 749, in convert\n",
            "    'Missing input_path argument. For usage, use the --help flag.')\n",
            "ValueError: Missing input_path argument. For usage, use the --help flag.\n",
            "\n",
            "zip error: Invalid command arguments (cannot write zip file to terminal)\n"
          ],
          "name": "stdout"
        }
      ]
    },
    {
      "cell_type": "markdown",
      "metadata": {
        "id": "BRhkgmMQcnd_"
      },
      "source": [
        "# Download All Models"
      ]
    },
    {
      "cell_type": "code",
      "metadata": {
        "id": "p-mEnmY5cqPc"
      },
      "source": [
        "files.download(zip_store_path) "
      ],
      "execution_count": null,
      "outputs": []
    },
    {
      "cell_type": "code",
      "metadata": {
        "id": "oxTX-_5jf6rt"
      },
      "source": [
        ""
      ],
      "execution_count": null,
      "outputs": []
    }
  ]
}