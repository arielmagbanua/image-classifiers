{
  "nbformat": 4,
  "nbformat_minor": 0,
  "metadata": {
    "colab": {
      "name": "notebook_cnn.ipynb",
      "provenance": [],
      "authorship_tag": "ABX9TyNcuTK2jyuf7amDZCpnE2Sg",
      "include_colab_link": true
    },
    "kernelspec": {
      "name": "python3",
      "display_name": "Python 3"
    }
  },
  "cells": [
    {
      "cell_type": "markdown",
      "metadata": {
        "id": "view-in-github",
        "colab_type": "text"
      },
      "source": [
        "<a href=\"https://colab.research.google.com/github/arielmagbanua/image-classifiers/blob/main/mask-on-mask-off/notebook_cnn.ipynb\" target=\"_parent\"><img src=\"https://colab.research.google.com/assets/colab-badge.svg\" alt=\"Open In Colab\"/></a>"
      ]
    },
    {
      "cell_type": "code",
      "metadata": {
        "id": "Z3N7yKBPmUjp"
      },
      "source": [
        "print('hello')"
      ],
      "execution_count": null,
      "outputs": []
    }
  ]
}