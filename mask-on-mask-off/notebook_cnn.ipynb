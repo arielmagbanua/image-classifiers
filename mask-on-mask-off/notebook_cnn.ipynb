{
  "nbformat": 4,
  "nbformat_minor": 0,
  "metadata": {
    "colab": {
      "name": "notebook_cnn.ipynb",
      "provenance": [],
      "collapsed_sections": [],
      "mount_file_id": "1dcTH6lEp0DZgYsZTfoCx39yuhHLBC7WJ",
      "authorship_tag": "ABX9TyNvQSb2LTFqsgfXT/0B6dfm",
      "include_colab_link": true
    },
    "kernelspec": {
      "name": "python3",
      "display_name": "Python 3"
    },
    "accelerator": "GPU"
  },
  "cells": [
    {
      "cell_type": "markdown",
      "metadata": {
        "id": "view-in-github",
        "colab_type": "text"
      },
      "source": [
        "<a href=\"https://colab.research.google.com/github/arielmagbanua/image-classifiers/blob/main/mask-on-mask-off/notebook_cnn.ipynb\" target=\"_parent\"><img src=\"https://colab.research.google.com/assets/colab-badge.svg\" alt=\"Open In Colab\"/></a>"
      ]
    },
    {
      "cell_type": "code",
      "metadata": {
        "id": "Z3N7yKBPmUjp"
      },
      "source": [
        "import matplotlib.pyplot as plt\r\n",
        "import tensorflow as tf\r\n",
        "from tensorflow.keras.preprocessing.image import ImageDataGenerator\r\n",
        "from tensorflow.keras.optimizers import Adam\r\n",
        "import os\r\n",
        "import zipfile"
      ],
      "execution_count": 14,
      "outputs": []
    },
    {
      "cell_type": "markdown",
      "metadata": {
        "id": "04MxepmksJ62"
      },
      "source": [
        "# Extract and Prepare Dataset\r\n",
        "\r\n",
        "1.) Mount your Google Drive\r\n",
        "\r\n",
        "2.) Designate a directory where you want to extract your dataset (E.g. `/content/mask-on-mask-off`).\r\n"
      ]
    },
    {
      "cell_type": "code",
      "metadata": {
        "id": "gB_YzUbsn2g3"
      },
      "source": [
        "# The path where to extract the dataset\r\n",
        "COLAB_DATA_SET_PATH = '/content/mask-on-mask-off'\r\n",
        "\r\n",
        "data_zip = '/content/drive/MyDrive/mlds/dataset/mask_on_off.zip'\r\n",
        "zip_ref = zipfile.ZipFile(data_zip, 'r')\r\n",
        "zip_ref.extractall(COLAB_DATA_SET_PATH)\r\n",
        "zip_ref.close()"
      ],
      "execution_count": 15,
      "outputs": []
    },
    {
      "cell_type": "markdown",
      "metadata": {
        "id": "Uqg7EQxntaFQ"
      },
      "source": [
        "# Constants / Parameters"
      ]
    },
    {
      "cell_type": "code",
      "metadata": {
        "id": "udMp5s6NtkK9",
        "colab": {
          "base_uri": "https://localhost:8080/"
        },
        "outputId": "747e52c7-e885-45e0-b205-369bfa0260f4"
      },
      "source": [
        "DESIRED_ACCURACY = 0.999\r\n",
        "\r\n",
        "dataset_path = os.path.join(COLAB_DATA_SET_PATH)\r\n",
        "print(dataset_path)"
      ],
      "execution_count": 16,
      "outputs": [
        {
          "output_type": "stream",
          "text": [
            "/content/mask-on-mask-off\n"
          ],
          "name": "stdout"
        }
      ]
    },
    {
      "cell_type": "markdown",
      "metadata": {
        "id": "JF7gzF0Et7aI"
      },
      "source": [
        "# Callbacks"
      ]
    },
    {
      "cell_type": "code",
      "metadata": {
        "id": "HM1tuWwZt87r"
      },
      "source": [
        "class Callbacks(tf.keras.callbacks.Callback):\r\n",
        "  def on_epoch_end(self, epoch, logs={}):\r\n",
        "    if logs.get('accuracy') > DESIRED_ACCURACY:\r\n",
        "      print(\"\\nReached 99.9% accuracy so cancelling training!\")\r\n",
        "      self.model.stop_training = True\r\n",
        "\r\n",
        "# create the callbacks\r\n",
        "callbacks = Callbacks()"
      ],
      "execution_count": 17,
      "outputs": []
    },
    {
      "cell_type": "markdown",
      "metadata": {
        "id": "2tdH8oL3uQiS"
      },
      "source": [
        "# Build the Model"
      ]
    },
    {
      "cell_type": "code",
      "metadata": {
        "id": "FyIXuQ0WuSer"
      },
      "source": [
        "model = tf.keras.models.Sequential([\r\n",
        "  # input layer\r\n",
        "  # first convolution\r\n",
        "  tf.keras.layers.Conv2D(16, (3, 3), activation='relu', input_shape=(360, 360, 3)),\r\n",
        "  tf.keras.layers.MaxPooling2D(2, 2),\r\n",
        "\r\n",
        "  # second convolution\r\n",
        "  tf.keras.layers.Conv2D(32, (3, 3), activation='relu'),\r\n",
        "  tf.keras.layers.MaxPooling2D(2, 2),\r\n",
        "\r\n",
        "  # third convolution\r\n",
        "  tf.keras.layers.Conv2D(64, (3, 3), activation='relu'),\r\n",
        "  tf.keras.layers.MaxPooling2D(2, 2),\r\n",
        "\r\n",
        "  # fourth convolution\r\n",
        "  tf.keras.layers.Conv2D(64, (3, 3), activation='relu'),\r\n",
        "  tf.keras.layers.MaxPooling2D(2, 2),\r\n",
        "\r\n",
        "  # fifth convolution\r\n",
        "  tf.keras.layers.Conv2D(64, (3, 3), activation='relu'),\r\n",
        "  tf.keras.layers.MaxPooling2D(2, 2),\r\n",
        "\r\n",
        "  # Flatten the results to feed into a DNN\r\n",
        "  tf.keras.layers.Flatten(),\r\n",
        "\r\n",
        "  # 512 neuron hidden layer\r\n",
        "  tf.keras.layers.Dense(512, activation='relu'),\r\n",
        "\r\n",
        "  # Only 1 output neuron.\r\n",
        "  # It will contain a value from 0-1 where 0 for 1 class ('mask on') and 1 for the other ('mask off')\r\n",
        "  tf.keras.layers.Dense(1, activation='sigmoid')\r\n",
        "])"
      ],
      "execution_count": 18,
      "outputs": []
    },
    {
      "cell_type": "markdown",
      "metadata": {
        "id": "BtAnPnKWyHRS"
      },
      "source": [
        "# Compile the Model"
      ]
    },
    {
      "cell_type": "code",
      "metadata": {
        "id": "vnxHmaFyyJ-w"
      },
      "source": [
        "model.compile(\r\n",
        "  loss='binary_crossentropy',\r\n",
        "  optimizer=Adam(),\r\n",
        "  metrics=['accuracy']\r\n",
        ")"
      ],
      "execution_count": 19,
      "outputs": []
    },
    {
      "cell_type": "markdown",
      "metadata": {
        "id": "lB5ujwecubmt"
      },
      "source": [
        "# Prepare Dataset with Data Generator"
      ]
    },
    {
      "cell_type": "code",
      "metadata": {
        "colab": {
          "base_uri": "https://localhost:8080/"
        },
        "id": "s62eGLSyuguz",
        "outputId": "4d500a97-a8dd-4f55-8327-48a8f7b59778"
      },
      "source": [
        "# All images will be rescaled by 1./255\r\n",
        "train_datagen = ImageDataGenerator(\r\n",
        "  rescale=1./255,\r\n",
        "  rotation_range=40,\r\n",
        "  width_shift_range=0.2,\r\n",
        "  height_shift_range=0.2,\r\n",
        "  shear_range=0.2,\r\n",
        "  zoom_range=0.2,\r\n",
        "  horizontal_flip=True,\r\n",
        "  fill_mode='nearest',\r\n",
        "  validation_split=0.2\r\n",
        ")\r\n",
        "\r\n",
        "# training data generator\r\n",
        "train_generator = train_datagen.flow_from_directory(\r\n",
        "  dataset_path,  # This is the source directory for training images\r\n",
        "  target_size=(360, 360),  # All images will be resized to 360x360\r\n",
        "  batch_size=128,\r\n",
        "  class_mode='binary',\r\n",
        "  subset='training'\r\n",
        ")\r\n",
        "\r\n",
        "# validation data generator\r\n",
        "validation_generator = train_datagen.flow_from_directory(\r\n",
        "  dataset_path,\r\n",
        "  target_size=(360, 360),  # All images will be resized to 360x360\r\n",
        "  batch_size=32,\r\n",
        "  class_mode='binary',\r\n",
        "  subset='validation'\r\n",
        ")"
      ],
      "execution_count": 20,
      "outputs": [
        {
          "output_type": "stream",
          "text": [
            "Found 1227 images belonging to 2 classes.\n",
            "Found 306 images belonging to 2 classes.\n"
          ],
          "name": "stdout"
        }
      ]
    },
    {
      "cell_type": "markdown",
      "metadata": {
        "id": "vDL8fhjYxlFm"
      },
      "source": [
        "# Train / Fit"
      ]
    },
    {
      "cell_type": "code",
      "metadata": {
        "id": "uRGu0j0_viCN",
        "colab": {
          "base_uri": "https://localhost:8080/"
        },
        "outputId": "cd843e1b-b8a3-463e-a86b-3fdacb4496bd"
      },
      "source": [
        "history = model.fit(\r\n",
        "  train_generator,\r\n",
        "  validation_data=validation_generator,\r\n",
        "  steps_per_epoch=8,\r\n",
        "  epochs=100,\r\n",
        "  verbose=1,\r\n",
        "  callbacks=[callbacks]\r\n",
        ")"
      ],
      "execution_count": 21,
      "outputs": [
        {
          "output_type": "stream",
          "text": [
            "Epoch 1/100\n",
            "8/8 [==============================] - 49s 6s/step - loss: 0.7808 - accuracy: 0.5980 - val_loss: 0.6629 - val_accuracy: 0.5817\n",
            "Epoch 2/100\n",
            "8/8 [==============================] - 45s 6s/step - loss: 0.6562 - accuracy: 0.5723 - val_loss: 0.5529 - val_accuracy: 0.6438\n",
            "Epoch 3/100\n",
            "8/8 [==============================] - 44s 6s/step - loss: 0.4997 - accuracy: 0.7895 - val_loss: 0.3489 - val_accuracy: 0.8987\n",
            "Epoch 4/100\n",
            "8/8 [==============================] - 45s 6s/step - loss: 0.2343 - accuracy: 0.9381 - val_loss: 0.0655 - val_accuracy: 0.9804\n",
            "Epoch 5/100\n",
            "8/8 [==============================] - 44s 6s/step - loss: 0.1173 - accuracy: 0.9641 - val_loss: 0.0534 - val_accuracy: 0.9869\n",
            "Epoch 6/100\n",
            "8/8 [==============================] - 45s 6s/step - loss: 0.0451 - accuracy: 0.9855 - val_loss: 0.0363 - val_accuracy: 0.9935\n",
            "Epoch 7/100\n",
            "8/8 [==============================] - 44s 6s/step - loss: 0.0366 - accuracy: 0.9950 - val_loss: 0.0040 - val_accuracy: 1.0000\n",
            "Epoch 8/100\n",
            "8/8 [==============================] - 46s 6s/step - loss: 0.0389 - accuracy: 0.9880 - val_loss: 0.0347 - val_accuracy: 0.9935\n",
            "Epoch 9/100\n",
            "8/8 [==============================] - 45s 6s/step - loss: 0.0289 - accuracy: 0.9891 - val_loss: 0.0082 - val_accuracy: 1.0000\n",
            "Epoch 10/100\n",
            "8/8 [==============================] - 45s 6s/step - loss: 0.0363 - accuracy: 0.9924 - val_loss: 0.0339 - val_accuracy: 0.9967\n",
            "Epoch 11/100\n",
            "8/8 [==============================] - 44s 6s/step - loss: 0.0274 - accuracy: 0.9904 - val_loss: 0.0223 - val_accuracy: 0.9967\n",
            "Epoch 12/100\n",
            "8/8 [==============================] - 44s 6s/step - loss: 0.0117 - accuracy: 0.9965 - val_loss: 8.5451e-04 - val_accuracy: 1.0000\n",
            "Epoch 13/100\n",
            "8/8 [==============================] - 44s 6s/step - loss: 0.0027 - accuracy: 0.9993 - val_loss: 0.0070 - val_accuracy: 0.9967\n",
            "Epoch 14/100\n",
            "8/8 [==============================] - 45s 6s/step - loss: 0.0080 - accuracy: 0.9973 - val_loss: 0.0012 - val_accuracy: 1.0000\n",
            "Epoch 15/100\n",
            "8/8 [==============================] - 44s 6s/step - loss: 0.0105 - accuracy: 0.9978 - val_loss: 0.0230 - val_accuracy: 0.9902\n",
            "Epoch 16/100\n",
            "8/8 [==============================] - 46s 6s/step - loss: 0.0079 - accuracy: 0.9988 - val_loss: 0.0033 - val_accuracy: 1.0000\n",
            "\n",
            "Reached 99.9% accuracy so cancelling training!\n"
          ],
          "name": "stdout"
        }
      ]
    },
    {
      "cell_type": "markdown",
      "metadata": {
        "id": "6gemufTZRBIh"
      },
      "source": [
        "# Plot the Training History"
      ]
    },
    {
      "cell_type": "code",
      "metadata": {
        "colab": {
          "base_uri": "https://localhost:8080/",
          "height": 545
        },
        "id": "eYhl5xocRI6M",
        "outputId": "0cf55418-0012-464b-9266-e261eefb7f16"
      },
      "source": [
        "acc = history.history['accuracy']\r\n",
        "val_acc = history.history['val_accuracy']\r\n",
        "loss = history.history['loss']\r\n",
        "val_loss = history.history['val_loss']\r\n",
        "\r\n",
        "epochs = range(len(acc))\r\n",
        "\r\n",
        "plt.plot(epochs, acc, 'r', label='Training accuracy')\r\n",
        "plt.plot(epochs, val_acc, 'b', label='Validation accuracy')\r\n",
        "plt.title('Training and validation accuracy')\r\n",
        "\r\n",
        "plt.figure()\r\n",
        "\r\n",
        "plt.plot(epochs, loss, 'r', label='Training Loss')\r\n",
        "plt.plot(epochs, val_loss, 'b', label='Validation Loss')\r\n",
        "plt.title('Training and validation loss')\r\n",
        "plt.legend()\r\n",
        "\r\n",
        "plt.show()"
      ],
      "execution_count": 22,
      "outputs": [
        {
          "output_type": "display_data",
          "data": {
            "image/png": "[encoded data removed]",
            "text/plain": [
              "<Figure size 432x288 with 1 Axes>"
            ]
          },
          "metadata": {
            "tags": [],
            "needs_background": "light"
          }
        },
        {
          "output_type": "display_data",
          "data": {
            "image/png": "[encoded data removed]",
            "text/plain": [
              "<Figure size 432x288 with 1 Axes>"
            ]
          },
          "metadata": {
            "tags": [],
            "needs_background": "light"
          }
        }
      ]
    },
    {
      "cell_type": "code",
      "metadata": {
        "id": "_D130tfBTZuk"
      },
      "source": [
        ""
      ],
      "execution_count": null,
      "outputs": []
    }
  ]
}